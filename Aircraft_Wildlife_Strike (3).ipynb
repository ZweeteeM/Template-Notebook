{
  "metadata": {
    "kernelspec": {
      "language": "python",
      "display_name": "Python 3",
      "name": "python3"
    },
    "language_info": {
      "name": "python",
      "version": "3.10.14",
      "mimetype": "text/x-python",
      "codemirror_mode": {
        "name": "ipython",
        "version": 3
      },
      "pygments_lexer": "ipython3",
      "nbconvert_exporter": "python",
      "file_extension": ".py"
    },
    "kaggle": {
      "accelerator": "none",
      "dataSources": [
        {
          "sourceId": 1482,
          "sourceType": "datasetVersion",
          "datasetId": 800
        }
      ],
      "dockerImageVersionId": 30761,
      "isInternetEnabled": true,
      "language": "python",
      "sourceType": "notebook",
      "isGpuEnabled": false
    },
    "colab": {
      "provenance": []
    }
  },
  "nbformat_minor": 0,
  "nbformat": 4,
  "cells": [
    {
      "cell_type": "markdown",
      "source": [
        "##      Aircraft Wildlife Strike Analysis: Enhancing Aviation Safety\n",
        "\n",
        "\n",
        "\n"
      ],
      "metadata": {
        "id": "ODmOzTR3EGoJ"
      }
    },
    {
      "cell_type": "markdown",
      "source": [
        "<div align=\"center\" style=\" font-size: 80%; text-align: center; margin: 0 auto\">\n",
        "<img src=\"https://radpetroai.com/wp-content/uploads/2021/08/Airport-landing-page.jpg\"  style=\"display: block; margin-left: auto; margin-right: auto;\";/>\n",
        "</div>"
      ],
      "metadata": {
        "id": "WuWwtAvvSaHO"
      }
    },
    {
      "cell_type": "markdown",
      "source": [
        "## Table of Contents\n",
        "\n",
        "* [1. Project Overview](#chapter1)\n",
        "  * [1.1 Introduction](#section_1_1)\n",
        "      * [1.1.1 Problem Statement](#sub_section_1_1_1)\n",
        "      * [1.1.2 Objectives](#sub_section_1_1_2)\n",
        "* [2. Importing Packages](#chapter2)\n",
        "* [3. Loading Data](#chapter3)\n",
        "* [4. Data Cleaning](#chapter4)\n",
        "* [5. Exploratory Data Analysis (EDA)](#chapter5)\n",
        "* [6. Model training](#chapter7)\n",
        "* [7. Model Performance Comparison and evaluation](#chapter8)\n",
        "* [8. Fine-tune model parameters and hyperparameters](#chapter9)"
      ],
      "metadata": {
        "id": "gT1yhZfaD74L"
      }
    },
    {
      "cell_type": "markdown",
      "source": [
        "# <font color=black>1. Project Overview</font> <a class=\"anchor\" id=\"chapter1\"></a>"
      ],
      "metadata": {
        "id": "vUaK8RLgFgCs"
      }
    },
    {
      "cell_type": "markdown",
      "source": [
        "## 1.1. Introduction"
      ],
      "metadata": {
        "id": "BoiOsWSHUZNJ"
      }
    },
    {
      "cell_type": "markdown",
      "source": [
        "Wildlife strikes pose a significant threat to aviation safety, impacting both aircraft operations and wildlife conservation. This project focuses on analyzing wildlife strike data to uncover patterns, identify high-risk species, and assess the severity of incidents. By leveraging data-driven insights, the study aims to support the development of effective mitigation strategies, ensuring safer skies for aviation and preserving ecological balance."
      ],
      "metadata": {
        "id": "GaVxxvb_T-tG"
      }
    },
    {
      "cell_type": "markdown",
      "source": [
        "## 1.1.1 Problem Statement <a class=\"anchor\" id=\"sub_section_1_1_1\"></a>"
      ],
      "metadata": {
        "id": "ERFVhoRPFuBC"
      }
    },
    {
      "cell_type": "markdown",
      "source": [
        "Wildlife strikes are a persistent challenge for the aviation industry, causing safety risks, economic burdens, and environmental concerns. Despite existing mitigation measures, the frequency of wildlife strikes remains high, often due to insufficient understanding of contributing factors such as species behavior, airport environments, and seasonal variations. This project addresses the lack of comprehensive data analysis that could help stakeholders implement targeted and effective strategies to reduce wildlife strikes."
      ],
      "metadata": {
        "id": "KMXyiR_cFwIt"
      }
    },
    {
      "cell_type": "markdown",
      "source": [
        "## 1.1.2 Objectives <a class=\"anchor\" id=\"sub_section_1_1_2\"></a>"
      ],
      "metadata": {
        "id": "SCjQ4n3JGARG"
      }
    },
    {
      "cell_type": "markdown",
      "source": [
        "\n",
        "\n",
        "1.   **Analyze Historical Wildlife Strike Data:**\n",
        "\n",
        "      Identify trends, seasonal patterns, and geographical hotspots using historical records.\n",
        "\n",
        "2.   **Determine Contributing Factors:**\n",
        "\n",
        "      Investigate environmental, operational, and species-specific factors influencing strike frequency and severity.\n",
        "\n",
        "3.   **Develop Predictive Models:**\n",
        "\n",
        "      Create predictive models to forecast strike probabilities based on key variables like time of day, weather, and species activity.\n",
        "\n",
        "4.   **Propose Mitigation Strategies:**\n",
        "\n",
        "      Provide actionable recommendations for airport wildlife management teams, including habitat modifications, enhanced monitoring, and technology-driven interventions.\n",
        "\n",
        "\n",
        "5.  **Enhance Awareness Through Visualizations:**\n",
        "\n",
        "      Develop interactive dashboards and reports to communicate insights effectively to stakeholders, including airport authorities, pilots, and policy-makers.\n",
        "\n",
        "\n",
        "\n",
        "\n"
      ],
      "metadata": {
        "id": "KRP69IqsGH2r"
      }
    },
    {
      "cell_type": "markdown",
      "source": [
        "# <font color=black>2. Importing Packages</font> <a class=\"anchor\" id=\"chapter2\"></a>"
      ],
      "metadata": {
        "id": "_6kysEkvDLYj"
      }
    },
    {
      "cell_type": "code",
      "source": [
        "import pandas as pd\n",
        "import numpy as np\n",
        "import seaborn as sns\n",
        "import matplotlib.pyplot as plt\n",
        "\n",
        "from sklearn.preprocessing import StandardScaler, normalize\n",
        "from sklearn.cluster import KMeans\n",
        "import plotly.express as px\n",
        "import plotly.graph_objects as go\n",
        "#from chart_studio.plotly import plot, iplot\n",
        "from plotly.offline import iplot\n",
        "import warnings\n",
        "\n",
        "# Temporarily suppress all warnings\n",
        "warnings.filterwarnings(\"ignore\")"
      ],
      "metadata": {
        "execution": {
          "iopub.status.busy": "2024-09-20T13:47:25.055324Z",
          "iopub.execute_input": "2024-09-20T13:47:25.055941Z",
          "iopub.status.idle": "2024-09-20T13:47:27.109014Z",
          "shell.execute_reply.started": "2024-09-20T13:47:25.055895Z",
          "shell.execute_reply": "2024-09-20T13:47:27.107646Z"
        },
        "trusted": true,
        "id": "Wy-hef3pDLYo"
      },
      "execution_count": 4,
      "outputs": []
    },
    {
      "cell_type": "markdown",
      "source": [
        "# <font color=black> 3. Loading Data</font> <a class=\"anchor\" id=\"chapter3\"></a>"
      ],
      "metadata": {
        "id": "_bs_y2gnH7eb"
      }
    },
    {
      "cell_type": "code",
      "source": [
        "from google.colab import files\n",
        "uploaded = files.upload()"
      ],
      "metadata": {
        "colab": {
          "base_uri": "https://localhost:8080/",
          "height": 73
        },
        "id": "qVTS_afBb9mE",
        "outputId": "dc584a84-00b0-4150-e2f7-13d8cb287203"
      },
      "execution_count": 5,
      "outputs": [
        {
          "output_type": "display_data",
          "data": {
            "text/plain": [
              "<IPython.core.display.HTML object>"
            ],
            "text/html": [
              "\n",
              "     <input type=\"file\" id=\"files-8f12cf79-b0a9-4a58-a7f2-7d078d2a0cd6\" name=\"files[]\" multiple disabled\n",
              "        style=\"border:none\" />\n",
              "     <output id=\"result-8f12cf79-b0a9-4a58-a7f2-7d078d2a0cd6\">\n",
              "      Upload widget is only available when the cell has been executed in the\n",
              "      current browser session. Please rerun this cell to enable.\n",
              "      </output>\n",
              "      <script>// Copyright 2017 Google LLC\n",
              "//\n",
              "// Licensed under the Apache License, Version 2.0 (the \"License\");\n",
              "// you may not use this file except in compliance with the License.\n",
              "// You may obtain a copy of the License at\n",
              "//\n",
              "//      http://www.apache.org/licenses/LICENSE-2.0\n",
              "//\n",
              "// Unless required by applicable law or agreed to in writing, software\n",
              "// distributed under the License is distributed on an \"AS IS\" BASIS,\n",
              "// WITHOUT WARRANTIES OR CONDITIONS OF ANY KIND, either express or implied.\n",
              "// See the License for the specific language governing permissions and\n",
              "// limitations under the License.\n",
              "\n",
              "/**\n",
              " * @fileoverview Helpers for google.colab Python module.\n",
              " */\n",
              "(function(scope) {\n",
              "function span(text, styleAttributes = {}) {\n",
              "  const element = document.createElement('span');\n",
              "  element.textContent = text;\n",
              "  for (const key of Object.keys(styleAttributes)) {\n",
              "    element.style[key] = styleAttributes[key];\n",
              "  }\n",
              "  return element;\n",
              "}\n",
              "\n",
              "// Max number of bytes which will be uploaded at a time.\n",
              "const MAX_PAYLOAD_SIZE = 100 * 1024;\n",
              "\n",
              "function _uploadFiles(inputId, outputId) {\n",
              "  const steps = uploadFilesStep(inputId, outputId);\n",
              "  const outputElement = document.getElementById(outputId);\n",
              "  // Cache steps on the outputElement to make it available for the next call\n",
              "  // to uploadFilesContinue from Python.\n",
              "  outputElement.steps = steps;\n",
              "\n",
              "  return _uploadFilesContinue(outputId);\n",
              "}\n",
              "\n",
              "// This is roughly an async generator (not supported in the browser yet),\n",
              "// where there are multiple asynchronous steps and the Python side is going\n",
              "// to poll for completion of each step.\n",
              "// This uses a Promise to block the python side on completion of each step,\n",
              "// then passes the result of the previous step as the input to the next step.\n",
              "function _uploadFilesContinue(outputId) {\n",
              "  const outputElement = document.getElementById(outputId);\n",
              "  const steps = outputElement.steps;\n",
              "\n",
              "  const next = steps.next(outputElement.lastPromiseValue);\n",
              "  return Promise.resolve(next.value.promise).then((value) => {\n",
              "    // Cache the last promise value to make it available to the next\n",
              "    // step of the generator.\n",
              "    outputElement.lastPromiseValue = value;\n",
              "    return next.value.response;\n",
              "  });\n",
              "}\n",
              "\n",
              "/**\n",
              " * Generator function which is called between each async step of the upload\n",
              " * process.\n",
              " * @param {string} inputId Element ID of the input file picker element.\n",
              " * @param {string} outputId Element ID of the output display.\n",
              " * @return {!Iterable<!Object>} Iterable of next steps.\n",
              " */\n",
              "function* uploadFilesStep(inputId, outputId) {\n",
              "  const inputElement = document.getElementById(inputId);\n",
              "  inputElement.disabled = false;\n",
              "\n",
              "  const outputElement = document.getElementById(outputId);\n",
              "  outputElement.innerHTML = '';\n",
              "\n",
              "  const pickedPromise = new Promise((resolve) => {\n",
              "    inputElement.addEventListener('change', (e) => {\n",
              "      resolve(e.target.files);\n",
              "    });\n",
              "  });\n",
              "\n",
              "  const cancel = document.createElement('button');\n",
              "  inputElement.parentElement.appendChild(cancel);\n",
              "  cancel.textContent = 'Cancel upload';\n",
              "  const cancelPromise = new Promise((resolve) => {\n",
              "    cancel.onclick = () => {\n",
              "      resolve(null);\n",
              "    };\n",
              "  });\n",
              "\n",
              "  // Wait for the user to pick the files.\n",
              "  const files = yield {\n",
              "    promise: Promise.race([pickedPromise, cancelPromise]),\n",
              "    response: {\n",
              "      action: 'starting',\n",
              "    }\n",
              "  };\n",
              "\n",
              "  cancel.remove();\n",
              "\n",
              "  // Disable the input element since further picks are not allowed.\n",
              "  inputElement.disabled = true;\n",
              "\n",
              "  if (!files) {\n",
              "    return {\n",
              "      response: {\n",
              "        action: 'complete',\n",
              "      }\n",
              "    };\n",
              "  }\n",
              "\n",
              "  for (const file of files) {\n",
              "    const li = document.createElement('li');\n",
              "    li.append(span(file.name, {fontWeight: 'bold'}));\n",
              "    li.append(span(\n",
              "        `(${file.type || 'n/a'}) - ${file.size} bytes, ` +\n",
              "        `last modified: ${\n",
              "            file.lastModifiedDate ? file.lastModifiedDate.toLocaleDateString() :\n",
              "                                    'n/a'} - `));\n",
              "    const percent = span('0% done');\n",
              "    li.appendChild(percent);\n",
              "\n",
              "    outputElement.appendChild(li);\n",
              "\n",
              "    const fileDataPromise = new Promise((resolve) => {\n",
              "      const reader = new FileReader();\n",
              "      reader.onload = (e) => {\n",
              "        resolve(e.target.result);\n",
              "      };\n",
              "      reader.readAsArrayBuffer(file);\n",
              "    });\n",
              "    // Wait for the data to be ready.\n",
              "    let fileData = yield {\n",
              "      promise: fileDataPromise,\n",
              "      response: {\n",
              "        action: 'continue',\n",
              "      }\n",
              "    };\n",
              "\n",
              "    // Use a chunked sending to avoid message size limits. See b/62115660.\n",
              "    let position = 0;\n",
              "    do {\n",
              "      const length = Math.min(fileData.byteLength - position, MAX_PAYLOAD_SIZE);\n",
              "      const chunk = new Uint8Array(fileData, position, length);\n",
              "      position += length;\n",
              "\n",
              "      const base64 = btoa(String.fromCharCode.apply(null, chunk));\n",
              "      yield {\n",
              "        response: {\n",
              "          action: 'append',\n",
              "          file: file.name,\n",
              "          data: base64,\n",
              "        },\n",
              "      };\n",
              "\n",
              "      let percentDone = fileData.byteLength === 0 ?\n",
              "          100 :\n",
              "          Math.round((position / fileData.byteLength) * 100);\n",
              "      percent.textContent = `${percentDone}% done`;\n",
              "\n",
              "    } while (position < fileData.byteLength);\n",
              "  }\n",
              "\n",
              "  // All done.\n",
              "  yield {\n",
              "    response: {\n",
              "      action: 'complete',\n",
              "    }\n",
              "  };\n",
              "}\n",
              "\n",
              "scope.google = scope.google || {};\n",
              "scope.google.colab = scope.google.colab || {};\n",
              "scope.google.colab._files = {\n",
              "  _uploadFiles,\n",
              "  _uploadFilesContinue,\n",
              "};\n",
              "})(self);\n",
              "</script> "
            ]
          },
          "metadata": {}
        },
        {
          "output_type": "stream",
          "name": "stdout",
          "text": [
            "Saving database.csv to database.csv\n"
          ]
        }
      ]
    },
    {
      "cell_type": "code",
      "source": [
        "df = pd.read_csv(\"database.csv\")\n",
        "df.head()"
      ],
      "metadata": {
        "execution": {
          "iopub.status.busy": "2024-09-20T13:47:34.997669Z",
          "iopub.execute_input": "2024-09-20T13:47:34.998297Z",
          "iopub.status.idle": "2024-09-20T13:47:36.904689Z",
          "shell.execute_reply.started": "2024-09-20T13:47:34.998255Z",
          "shell.execute_reply": "2024-09-20T13:47:36.903454Z"
        },
        "trusted": true,
        "colab": {
          "base_uri": "https://localhost:8080/",
          "height": 325
        },
        "id": "ll8Fz3UDDLYp",
        "outputId": "f2ab8461-4363-48df-f175-b5919d7af3d7"
      },
      "execution_count": 6,
      "outputs": [
        {
          "output_type": "execute_result",
          "data": {
            "text/plain": [
              "   Record ID  Incident Year  Incident Month  Incident Day Operator ID  \\\n",
              "0     127128           1990               1             1         DAL   \n",
              "1     129779           1990               1             1         HAL   \n",
              "2     129780           1990               1             2         UNK   \n",
              "3       2258           1990               1             3         MIL   \n",
              "4       2257           1990               1             3         MIL   \n",
              "\n",
              "          Operator   Aircraft Aircraft Type Aircraft Make Aircraft Model  ...  \\\n",
              "0  DELTA AIR LINES  B-757-200             A           148             26  ...   \n",
              "1     HAWAIIAN AIR       DC-9             A           583             90  ...   \n",
              "2          UNKNOWN    UNKNOWN           NaN           NaN            NaN  ...   \n",
              "3         MILITARY      A-10A             A           345            NaN  ...   \n",
              "4         MILITARY       F-16             A           561            NaN  ...   \n",
              "\n",
              "   Fuselage Strike  Fuselage Damage Landing Gear Strike  Landing Gear Damage  \\\n",
              "0                0                0                   0                    0   \n",
              "1                0                0                   0                    0   \n",
              "2                0                0                   0                    0   \n",
              "3                0                0                   0                    0   \n",
              "4                0                0                   0                    0   \n",
              "\n",
              "  Tail Strike Tail Damage  Lights Strike Lights Damage  Other Strike  \\\n",
              "0           1           1              0             0             0   \n",
              "1           0           0              0             0             1   \n",
              "2           0           0              0             0             0   \n",
              "3           0           0              0             0             0   \n",
              "4           0           0              0             0             0   \n",
              "\n",
              "  Other Damage  \n",
              "0            0  \n",
              "1            0  \n",
              "2            0  \n",
              "3            0  \n",
              "4            0  \n",
              "\n",
              "[5 rows x 66 columns]"
            ],
            "text/html": [
              "\n",
              "  <div id=\"df-a05c42c6-90f4-4a79-adf4-cfdec67f88b9\" class=\"colab-df-container\">\n",
              "    <div>\n",
              "<style scoped>\n",
              "    .dataframe tbody tr th:only-of-type {\n",
              "        vertical-align: middle;\n",
              "    }\n",
              "\n",
              "    .dataframe tbody tr th {\n",
              "        vertical-align: top;\n",
              "    }\n",
              "\n",
              "    .dataframe thead th {\n",
              "        text-align: right;\n",
              "    }\n",
              "</style>\n",
              "<table border=\"1\" class=\"dataframe\">\n",
              "  <thead>\n",
              "    <tr style=\"text-align: right;\">\n",
              "      <th></th>\n",
              "      <th>Record ID</th>\n",
              "      <th>Incident Year</th>\n",
              "      <th>Incident Month</th>\n",
              "      <th>Incident Day</th>\n",
              "      <th>Operator ID</th>\n",
              "      <th>Operator</th>\n",
              "      <th>Aircraft</th>\n",
              "      <th>Aircraft Type</th>\n",
              "      <th>Aircraft Make</th>\n",
              "      <th>Aircraft Model</th>\n",
              "      <th>...</th>\n",
              "      <th>Fuselage Strike</th>\n",
              "      <th>Fuselage Damage</th>\n",
              "      <th>Landing Gear Strike</th>\n",
              "      <th>Landing Gear Damage</th>\n",
              "      <th>Tail Strike</th>\n",
              "      <th>Tail Damage</th>\n",
              "      <th>Lights Strike</th>\n",
              "      <th>Lights Damage</th>\n",
              "      <th>Other Strike</th>\n",
              "      <th>Other Damage</th>\n",
              "    </tr>\n",
              "  </thead>\n",
              "  <tbody>\n",
              "    <tr>\n",
              "      <th>0</th>\n",
              "      <td>127128</td>\n",
              "      <td>1990</td>\n",
              "      <td>1</td>\n",
              "      <td>1</td>\n",
              "      <td>DAL</td>\n",
              "      <td>DELTA AIR LINES</td>\n",
              "      <td>B-757-200</td>\n",
              "      <td>A</td>\n",
              "      <td>148</td>\n",
              "      <td>26</td>\n",
              "      <td>...</td>\n",
              "      <td>0</td>\n",
              "      <td>0</td>\n",
              "      <td>0</td>\n",
              "      <td>0</td>\n",
              "      <td>1</td>\n",
              "      <td>1</td>\n",
              "      <td>0</td>\n",
              "      <td>0</td>\n",
              "      <td>0</td>\n",
              "      <td>0</td>\n",
              "    </tr>\n",
              "    <tr>\n",
              "      <th>1</th>\n",
              "      <td>129779</td>\n",
              "      <td>1990</td>\n",
              "      <td>1</td>\n",
              "      <td>1</td>\n",
              "      <td>HAL</td>\n",
              "      <td>HAWAIIAN AIR</td>\n",
              "      <td>DC-9</td>\n",
              "      <td>A</td>\n",
              "      <td>583</td>\n",
              "      <td>90</td>\n",
              "      <td>...</td>\n",
              "      <td>0</td>\n",
              "      <td>0</td>\n",
              "      <td>0</td>\n",
              "      <td>0</td>\n",
              "      <td>0</td>\n",
              "      <td>0</td>\n",
              "      <td>0</td>\n",
              "      <td>0</td>\n",
              "      <td>1</td>\n",
              "      <td>0</td>\n",
              "    </tr>\n",
              "    <tr>\n",
              "      <th>2</th>\n",
              "      <td>129780</td>\n",
              "      <td>1990</td>\n",
              "      <td>1</td>\n",
              "      <td>2</td>\n",
              "      <td>UNK</td>\n",
              "      <td>UNKNOWN</td>\n",
              "      <td>UNKNOWN</td>\n",
              "      <td>NaN</td>\n",
              "      <td>NaN</td>\n",
              "      <td>NaN</td>\n",
              "      <td>...</td>\n",
              "      <td>0</td>\n",
              "      <td>0</td>\n",
              "      <td>0</td>\n",
              "      <td>0</td>\n",
              "      <td>0</td>\n",
              "      <td>0</td>\n",
              "      <td>0</td>\n",
              "      <td>0</td>\n",
              "      <td>0</td>\n",
              "      <td>0</td>\n",
              "    </tr>\n",
              "    <tr>\n",
              "      <th>3</th>\n",
              "      <td>2258</td>\n",
              "      <td>1990</td>\n",
              "      <td>1</td>\n",
              "      <td>3</td>\n",
              "      <td>MIL</td>\n",
              "      <td>MILITARY</td>\n",
              "      <td>A-10A</td>\n",
              "      <td>A</td>\n",
              "      <td>345</td>\n",
              "      <td>NaN</td>\n",
              "      <td>...</td>\n",
              "      <td>0</td>\n",
              "      <td>0</td>\n",
              "      <td>0</td>\n",
              "      <td>0</td>\n",
              "      <td>0</td>\n",
              "      <td>0</td>\n",
              "      <td>0</td>\n",
              "      <td>0</td>\n",
              "      <td>0</td>\n",
              "      <td>0</td>\n",
              "    </tr>\n",
              "    <tr>\n",
              "      <th>4</th>\n",
              "      <td>2257</td>\n",
              "      <td>1990</td>\n",
              "      <td>1</td>\n",
              "      <td>3</td>\n",
              "      <td>MIL</td>\n",
              "      <td>MILITARY</td>\n",
              "      <td>F-16</td>\n",
              "      <td>A</td>\n",
              "      <td>561</td>\n",
              "      <td>NaN</td>\n",
              "      <td>...</td>\n",
              "      <td>0</td>\n",
              "      <td>0</td>\n",
              "      <td>0</td>\n",
              "      <td>0</td>\n",
              "      <td>0</td>\n",
              "      <td>0</td>\n",
              "      <td>0</td>\n",
              "      <td>0</td>\n",
              "      <td>0</td>\n",
              "      <td>0</td>\n",
              "    </tr>\n",
              "  </tbody>\n",
              "</table>\n",
              "<p>5 rows × 66 columns</p>\n",
              "</div>\n",
              "    <div class=\"colab-df-buttons\">\n",
              "\n",
              "  <div class=\"colab-df-container\">\n",
              "    <button class=\"colab-df-convert\" onclick=\"convertToInteractive('df-a05c42c6-90f4-4a79-adf4-cfdec67f88b9')\"\n",
              "            title=\"Convert this dataframe to an interactive table.\"\n",
              "            style=\"display:none;\">\n",
              "\n",
              "  <svg xmlns=\"http://www.w3.org/2000/svg\" height=\"24px\" viewBox=\"0 -960 960 960\">\n",
              "    <path d=\"M120-120v-720h720v720H120Zm60-500h600v-160H180v160Zm220 220h160v-160H400v160Zm0 220h160v-160H400v160ZM180-400h160v-160H180v160Zm440 0h160v-160H620v160ZM180-180h160v-160H180v160Zm440 0h160v-160H620v160Z\"/>\n",
              "  </svg>\n",
              "    </button>\n",
              "\n",
              "  <style>\n",
              "    .colab-df-container {\n",
              "      display:flex;\n",
              "      gap: 12px;\n",
              "    }\n",
              "\n",
              "    .colab-df-convert {\n",
              "      background-color: #E8F0FE;\n",
              "      border: none;\n",
              "      border-radius: 50%;\n",
              "      cursor: pointer;\n",
              "      display: none;\n",
              "      fill: #1967D2;\n",
              "      height: 32px;\n",
              "      padding: 0 0 0 0;\n",
              "      width: 32px;\n",
              "    }\n",
              "\n",
              "    .colab-df-convert:hover {\n",
              "      background-color: #E2EBFA;\n",
              "      box-shadow: 0px 1px 2px rgba(60, 64, 67, 0.3), 0px 1px 3px 1px rgba(60, 64, 67, 0.15);\n",
              "      fill: #174EA6;\n",
              "    }\n",
              "\n",
              "    .colab-df-buttons div {\n",
              "      margin-bottom: 4px;\n",
              "    }\n",
              "\n",
              "    [theme=dark] .colab-df-convert {\n",
              "      background-color: #3B4455;\n",
              "      fill: #D2E3FC;\n",
              "    }\n",
              "\n",
              "    [theme=dark] .colab-df-convert:hover {\n",
              "      background-color: #434B5C;\n",
              "      box-shadow: 0px 1px 3px 1px rgba(0, 0, 0, 0.15);\n",
              "      filter: drop-shadow(0px 1px 2px rgba(0, 0, 0, 0.3));\n",
              "      fill: #FFFFFF;\n",
              "    }\n",
              "  </style>\n",
              "\n",
              "    <script>\n",
              "      const buttonEl =\n",
              "        document.querySelector('#df-a05c42c6-90f4-4a79-adf4-cfdec67f88b9 button.colab-df-convert');\n",
              "      buttonEl.style.display =\n",
              "        google.colab.kernel.accessAllowed ? 'block' : 'none';\n",
              "\n",
              "      async function convertToInteractive(key) {\n",
              "        const element = document.querySelector('#df-a05c42c6-90f4-4a79-adf4-cfdec67f88b9');\n",
              "        const dataTable =\n",
              "          await google.colab.kernel.invokeFunction('convertToInteractive',\n",
              "                                                    [key], {});\n",
              "        if (!dataTable) return;\n",
              "\n",
              "        const docLinkHtml = 'Like what you see? Visit the ' +\n",
              "          '<a target=\"_blank\" href=https://colab.research.google.com/notebooks/data_table.ipynb>data table notebook</a>'\n",
              "          + ' to learn more about interactive tables.';\n",
              "        element.innerHTML = '';\n",
              "        dataTable['output_type'] = 'display_data';\n",
              "        await google.colab.output.renderOutput(dataTable, element);\n",
              "        const docLink = document.createElement('div');\n",
              "        docLink.innerHTML = docLinkHtml;\n",
              "        element.appendChild(docLink);\n",
              "      }\n",
              "    </script>\n",
              "  </div>\n",
              "\n",
              "\n",
              "<div id=\"df-1f67eb33-b96f-44b6-82d7-3e1c80c79103\">\n",
              "  <button class=\"colab-df-quickchart\" onclick=\"quickchart('df-1f67eb33-b96f-44b6-82d7-3e1c80c79103')\"\n",
              "            title=\"Suggest charts\"\n",
              "            style=\"display:none;\">\n",
              "\n",
              "<svg xmlns=\"http://www.w3.org/2000/svg\" height=\"24px\"viewBox=\"0 0 24 24\"\n",
              "     width=\"24px\">\n",
              "    <g>\n",
              "        <path d=\"M19 3H5c-1.1 0-2 .9-2 2v14c0 1.1.9 2 2 2h14c1.1 0 2-.9 2-2V5c0-1.1-.9-2-2-2zM9 17H7v-7h2v7zm4 0h-2V7h2v10zm4 0h-2v-4h2v4z\"/>\n",
              "    </g>\n",
              "</svg>\n",
              "  </button>\n",
              "\n",
              "<style>\n",
              "  .colab-df-quickchart {\n",
              "      --bg-color: #E8F0FE;\n",
              "      --fill-color: #1967D2;\n",
              "      --hover-bg-color: #E2EBFA;\n",
              "      --hover-fill-color: #174EA6;\n",
              "      --disabled-fill-color: #AAA;\n",
              "      --disabled-bg-color: #DDD;\n",
              "  }\n",
              "\n",
              "  [theme=dark] .colab-df-quickchart {\n",
              "      --bg-color: #3B4455;\n",
              "      --fill-color: #D2E3FC;\n",
              "      --hover-bg-color: #434B5C;\n",
              "      --hover-fill-color: #FFFFFF;\n",
              "      --disabled-bg-color: #3B4455;\n",
              "      --disabled-fill-color: #666;\n",
              "  }\n",
              "\n",
              "  .colab-df-quickchart {\n",
              "    background-color: var(--bg-color);\n",
              "    border: none;\n",
              "    border-radius: 50%;\n",
              "    cursor: pointer;\n",
              "    display: none;\n",
              "    fill: var(--fill-color);\n",
              "    height: 32px;\n",
              "    padding: 0;\n",
              "    width: 32px;\n",
              "  }\n",
              "\n",
              "  .colab-df-quickchart:hover {\n",
              "    background-color: var(--hover-bg-color);\n",
              "    box-shadow: 0 1px 2px rgba(60, 64, 67, 0.3), 0 1px 3px 1px rgba(60, 64, 67, 0.15);\n",
              "    fill: var(--button-hover-fill-color);\n",
              "  }\n",
              "\n",
              "  .colab-df-quickchart-complete:disabled,\n",
              "  .colab-df-quickchart-complete:disabled:hover {\n",
              "    background-color: var(--disabled-bg-color);\n",
              "    fill: var(--disabled-fill-color);\n",
              "    box-shadow: none;\n",
              "  }\n",
              "\n",
              "  .colab-df-spinner {\n",
              "    border: 2px solid var(--fill-color);\n",
              "    border-color: transparent;\n",
              "    border-bottom-color: var(--fill-color);\n",
              "    animation:\n",
              "      spin 1s steps(1) infinite;\n",
              "  }\n",
              "\n",
              "  @keyframes spin {\n",
              "    0% {\n",
              "      border-color: transparent;\n",
              "      border-bottom-color: var(--fill-color);\n",
              "      border-left-color: var(--fill-color);\n",
              "    }\n",
              "    20% {\n",
              "      border-color: transparent;\n",
              "      border-left-color: var(--fill-color);\n",
              "      border-top-color: var(--fill-color);\n",
              "    }\n",
              "    30% {\n",
              "      border-color: transparent;\n",
              "      border-left-color: var(--fill-color);\n",
              "      border-top-color: var(--fill-color);\n",
              "      border-right-color: var(--fill-color);\n",
              "    }\n",
              "    40% {\n",
              "      border-color: transparent;\n",
              "      border-right-color: var(--fill-color);\n",
              "      border-top-color: var(--fill-color);\n",
              "    }\n",
              "    60% {\n",
              "      border-color: transparent;\n",
              "      border-right-color: var(--fill-color);\n",
              "    }\n",
              "    80% {\n",
              "      border-color: transparent;\n",
              "      border-right-color: var(--fill-color);\n",
              "      border-bottom-color: var(--fill-color);\n",
              "    }\n",
              "    90% {\n",
              "      border-color: transparent;\n",
              "      border-bottom-color: var(--fill-color);\n",
              "    }\n",
              "  }\n",
              "</style>\n",
              "\n",
              "  <script>\n",
              "    async function quickchart(key) {\n",
              "      const quickchartButtonEl =\n",
              "        document.querySelector('#' + key + ' button');\n",
              "      quickchartButtonEl.disabled = true;  // To prevent multiple clicks.\n",
              "      quickchartButtonEl.classList.add('colab-df-spinner');\n",
              "      try {\n",
              "        const charts = await google.colab.kernel.invokeFunction(\n",
              "            'suggestCharts', [key], {});\n",
              "      } catch (error) {\n",
              "        console.error('Error during call to suggestCharts:', error);\n",
              "      }\n",
              "      quickchartButtonEl.classList.remove('colab-df-spinner');\n",
              "      quickchartButtonEl.classList.add('colab-df-quickchart-complete');\n",
              "    }\n",
              "    (() => {\n",
              "      let quickchartButtonEl =\n",
              "        document.querySelector('#df-1f67eb33-b96f-44b6-82d7-3e1c80c79103 button');\n",
              "      quickchartButtonEl.style.display =\n",
              "        google.colab.kernel.accessAllowed ? 'block' : 'none';\n",
              "    })();\n",
              "  </script>\n",
              "</div>\n",
              "\n",
              "    </div>\n",
              "  </div>\n"
            ],
            "application/vnd.google.colaboratory.intrinsic+json": {
              "type": "dataframe",
              "variable_name": "df"
            }
          },
          "metadata": {},
          "execution_count": 6
        }
      ]
    },
    {
      "cell_type": "markdown",
      "source": [
        "## Dataset Overview\n",
        "\n",
        "The uploaded dataset contains 174,104 entries and 66 columns, providing detailed information on wildlife strike incidents in aviation. Below is a summary of its structure and content:\n",
        "\n",
        "Key Features:\n",
        "\n",
        "- **Incident Details:**\n",
        "\n",
        "    Incident Year, Incident Month, Incident Day: Dates of incidents.\n",
        "    Operator, Operator ID: Airline or entity operating the aircraft.\n",
        "    Airport, State, FAA Region: Location details.\n",
        "\n",
        "- **Aircraft Information:**\n",
        "\n",
        "    Aircraft, Aircraft Type, Aircraft Make, Aircraft Model: Aircraft specifications.\n",
        "    Engine Make, Engine Model, Engine Type: Engine details.\n",
        "    Engines, Engine Positions: Number and positions of engines.\n",
        "\n",
        "- **Environmental Factors:**\n",
        "\n",
        "    Visibility, Precipitation: Weather conditions during the incident.\n",
        "    Height, Speed, Distance: Environmental metrics related to the strike.\n",
        "\n",
        "- **Wildlife Information:**\n",
        "\n",
        "    Species ID, Species Name, Species Quantity: Wildlife involved in the strikes.\n",
        "\n",
        "- **Impact and Damage:**\n",
        "\n",
        "    Flight Impact: Impact on the flight (e.g., delays or diversions).\n",
        "    Aircraft Damage: Level of damage caused by the strike.\n",
        "    Various strike and damage metrics: For radome, engines, wings, fuselage, tail, landing gear, lights, and others.\n",
        "\n",
        "- **Safety Outcomes:**\n",
        "\n",
        "    Fatalities, Injuries: Human consequences of the incidents.\n",
        "\n",
        "**Data Types:**\n",
        "\n",
        "1. Numeric (float/int): Used for quantities like Height, Speed, Fatalities, and Injuries.\n",
        "\n",
        "2. Categorical (object): Includes columns like Operator, Species Name, and Aircraft Model."
      ],
      "metadata": {
        "id": "WsGj7w_4SdOF"
      }
    },
    {
      "cell_type": "markdown",
      "source": [
        "# <font color=black> 4. Data cleaning</font> <a class=\"anchor\" id=\"chapter4\"></a>"
      ],
      "metadata": {
        "id": "_TOK0WGrVerC"
      }
    },
    {
      "cell_type": "markdown",
      "source": [
        "Data cleaning is the process of fixing bad data in our dataset. This step is crucial in the data analysis process, it helps ensure that the data is accurate, consistent, and reliable. Clean data leads to more accurate analysis and modeling results, thus provides a solid foundation for decision-making. The dataset might contain missing values in key columns, particularly related to aircrafts and previous incident details,\n",
        "which will be addressed during data cleaning."
      ],
      "metadata": {
        "id": "FbAH3CM8Vfzr"
      }
    },
    {
      "cell_type": "code",
      "source": [
        "# Drop rows with any missing values\n",
        "df_cleaned = df.dropna()\n",
        "\n",
        "# Drop rows where all values are missing\n",
        "df_cleaned = df.dropna(how='all')"
      ],
      "metadata": {
        "execution": {
          "iopub.status.busy": "2024-09-20T13:47:53.009110Z",
          "iopub.execute_input": "2024-09-20T13:47:53.009518Z",
          "iopub.status.idle": "2024-09-20T13:47:53.413007Z",
          "shell.execute_reply.started": "2024-09-20T13:47:53.009473Z",
          "shell.execute_reply": "2024-09-20T13:47:53.411595Z"
        },
        "trusted": true,
        "id": "9jdFG7p-DLYq"
      },
      "execution_count": 7,
      "outputs": []
    },
    {
      "cell_type": "code",
      "source": [
        "print(df_cleaned.shape)"
      ],
      "metadata": {
        "execution": {
          "iopub.status.busy": "2024-09-20T13:48:08.681286Z",
          "iopub.execute_input": "2024-09-20T13:48:08.681686Z",
          "iopub.status.idle": "2024-09-20T13:48:08.687419Z",
          "shell.execute_reply.started": "2024-09-20T13:48:08.681649Z",
          "shell.execute_reply": "2024-09-20T13:48:08.686103Z"
        },
        "trusted": true,
        "colab": {
          "base_uri": "https://localhost:8080/"
        },
        "id": "izxaZvN2DLYr",
        "outputId": "e34d3ed6-2d76-49cd-a5ea-d6245c2e79bf"
      },
      "execution_count": 8,
      "outputs": [
        {
          "output_type": "stream",
          "name": "stdout",
          "text": [
            "(174104, 66)\n"
          ]
        }
      ]
    },
    {
      "cell_type": "code",
      "source": [
        "# Assuming df_cleaned is the DataFrame after cleaning\n",
        "print(df_cleaned.head())     # Display the first few rows of the cleaned data\n",
        "print(df_cleaned.describe()) # Get summary statistics for the cleaned data\n",
        "print(df_cleaned.info())     # Get information about the cleaned dataset"
      ],
      "metadata": {
        "execution": {
          "iopub.status.busy": "2024-09-19T19:37:47.914042Z",
          "iopub.execute_input": "2024-09-19T19:37:47.914928Z",
          "iopub.status.idle": "2024-09-19T19:37:48.629998Z",
          "shell.execute_reply.started": "2024-09-19T19:37:47.914862Z",
          "shell.execute_reply": "2024-09-19T19:37:48.628646Z"
        },
        "trusted": true,
        "colab": {
          "base_uri": "https://localhost:8080/"
        },
        "id": "beVD49UVDLYr",
        "outputId": "92e3e569-d109-4d12-9d44-b30969432878"
      },
      "execution_count": 9,
      "outputs": [
        {
          "output_type": "stream",
          "name": "stdout",
          "text": [
            "   Record ID  Incident Year  Incident Month  Incident Day Operator ID  \\\n",
            "0     127128           1990               1             1         DAL   \n",
            "1     129779           1990               1             1         HAL   \n",
            "2     129780           1990               1             2         UNK   \n",
            "3       2258           1990               1             3         MIL   \n",
            "4       2257           1990               1             3         MIL   \n",
            "\n",
            "          Operator   Aircraft Aircraft Type Aircraft Make Aircraft Model  ...  \\\n",
            "0  DELTA AIR LINES  B-757-200             A           148             26  ...   \n",
            "1     HAWAIIAN AIR       DC-9             A           583             90  ...   \n",
            "2          UNKNOWN    UNKNOWN           NaN           NaN            NaN  ...   \n",
            "3         MILITARY      A-10A             A           345            NaN  ...   \n",
            "4         MILITARY       F-16             A           561            NaN  ...   \n",
            "\n",
            "   Fuselage Strike  Fuselage Damage Landing Gear Strike  Landing Gear Damage  \\\n",
            "0                0                0                   0                    0   \n",
            "1                0                0                   0                    0   \n",
            "2                0                0                   0                    0   \n",
            "3                0                0                   0                    0   \n",
            "4                0                0                   0                    0   \n",
            "\n",
            "  Tail Strike Tail Damage  Lights Strike Lights Damage  Other Strike  \\\n",
            "0           1           1              0             0             0   \n",
            "1           0           0              0             0             1   \n",
            "2           0           0              0             0             0   \n",
            "3           0           0              0             0             0   \n",
            "4           0           0              0             0             0   \n",
            "\n",
            "  Other Damage  \n",
            "0            0  \n",
            "1            0  \n",
            "2            0  \n",
            "3            0  \n",
            "4            0  \n",
            "\n",
            "[5 rows x 66 columns]\n",
            "           Record ID  Incident Year  Incident Month   Incident Day  \\\n",
            "count  174104.000000  174104.000000   174104.000000  174104.000000   \n",
            "mean   241204.036915    2006.036392        7.171840      15.712264   \n",
            "std     94013.682213       6.747708        2.790152       8.799405   \n",
            "min      1000.000000    1990.000000        1.000000       1.000000   \n",
            "25%    205411.750000    2001.000000        5.000000       8.000000   \n",
            "50%    249102.500000    2007.000000        8.000000      16.000000   \n",
            "75%    322592.250000    2012.000000        9.000000      23.000000   \n",
            "max    367445.000000    2015.000000       12.000000      31.000000   \n",
            "\n",
            "       Aircraft Mass    Engine Make        Engines  Engine2 Position  \\\n",
            "count  127320.000000  123434.000000  127342.000000     118715.000000   \n",
            "mean        3.510611      21.306958       2.057656          2.918570   \n",
            "std         0.873783      11.023161       0.469374          2.008204   \n",
            "min         1.000000       1.000000       1.000000          1.000000   \n",
            "25%         3.000000      10.000000       2.000000          1.000000   \n",
            "50%         4.000000      22.000000       2.000000          1.000000   \n",
            "75%         4.000000      34.000000       2.000000          5.000000   \n",
            "max         5.000000      92.000000       4.000000          7.000000   \n",
            "\n",
            "       Engine4 Position         Height  ...  Fuselage Strike  Fuselage Damage  \\\n",
            "count       3092.000000  103677.000000  ...    174104.000000    174104.000000   \n",
            "mean           2.058538     831.032283  ...         0.102703         0.004733   \n",
            "std            1.441000    1803.650833  ...         0.303571         0.068633   \n",
            "min            1.000000       0.000000  ...         0.000000         0.000000   \n",
            "25%            1.000000       0.000000  ...         0.000000         0.000000   \n",
            "50%            1.000000      50.000000  ...         0.000000         0.000000   \n",
            "75%            4.000000     800.000000  ...         0.000000         0.000000   \n",
            "max            5.000000   31300.000000  ...         1.000000         1.000000   \n",
            "\n",
            "       Landing Gear Strike  Landing Gear Damage    Tail Strike    Tail Damage  \\\n",
            "count        174104.000000        174104.000000  174104.000000  174104.000000   \n",
            "mean              0.046242             0.005813       0.011235       0.004176   \n",
            "std               0.210010             0.076019       0.105397       0.064485   \n",
            "min               0.000000             0.000000       0.000000       0.000000   \n",
            "25%               0.000000             0.000000       0.000000       0.000000   \n",
            "50%               0.000000             0.000000       0.000000       0.000000   \n",
            "75%               0.000000             0.000000       0.000000       0.000000   \n",
            "max               1.000000             1.000000       1.000000       1.000000   \n",
            "\n",
            "       Lights Strike  Lights Damage   Other Strike   Other Damage  \n",
            "count  174104.000000  174104.000000  174104.000000  174104.000000  \n",
            "mean        0.005962       0.004216       0.090727       0.008989  \n",
            "std         0.076983       0.064793       0.287222       0.094383  \n",
            "min         0.000000       0.000000       0.000000       0.000000  \n",
            "25%         0.000000       0.000000       0.000000       0.000000  \n",
            "50%         0.000000       0.000000       0.000000       0.000000  \n",
            "75%         0.000000       0.000000       0.000000       0.000000  \n",
            "max         1.000000       1.000000       1.000000       1.000000  \n",
            "\n",
            "[8 rows x 44 columns]\n",
            "<class 'pandas.core.frame.DataFrame'>\n",
            "RangeIndex: 174104 entries, 0 to 174103\n",
            "Data columns (total 66 columns):\n",
            " #   Column                Non-Null Count   Dtype  \n",
            "---  ------                --------------   -----  \n",
            " 0   Record ID             174104 non-null  int64  \n",
            " 1   Incident Year         174104 non-null  int64  \n",
            " 2   Incident Month        174104 non-null  int64  \n",
            " 3   Incident Day          174104 non-null  int64  \n",
            " 4   Operator ID           174104 non-null  object \n",
            " 5   Operator              174104 non-null  object \n",
            " 6   Aircraft              174104 non-null  object \n",
            " 7   Aircraft Type         133074 non-null  object \n",
            " 8   Aircraft Make         131051 non-null  object \n",
            " 9   Aircraft Model        122439 non-null  object \n",
            " 10  Aircraft Mass         127320 non-null  float64\n",
            " 11  Engine Make           123434 non-null  float64\n",
            " 12  Engine Model          121988 non-null  object \n",
            " 13  Engines               127342 non-null  float64\n",
            " 14  Engine Type           127282 non-null  object \n",
            " 15  Engine1 Position      126193 non-null  object \n",
            " 16  Engine2 Position      118715 non-null  float64\n",
            " 17  Engine3 Position      11659 non-null   object \n",
            " 18  Engine4 Position      3092 non-null    float64\n",
            " 19  Airport ID            174104 non-null  object \n",
            " 20  Airport               173814 non-null  object \n",
            " 21  State                 152128 non-null  object \n",
            " 22  FAA Region            155202 non-null  object \n",
            " 23  Warning Issued        76418 non-null   object \n",
            " 24  Flight Phase          118802 non-null  object \n",
            " 25  Visibility            109933 non-null  object \n",
            " 26  Precipitation         88322 non-null   object \n",
            " 27  Height                103677 non-null  float64\n",
            " 28  Speed                 71258 non-null   float64\n",
            " 29  Distance              99713 non-null   float64\n",
            " 30  Species ID            174104 non-null  object \n",
            " 31  Species Name          174024 non-null  object \n",
            " 32  Species Quantity      169627 non-null  object \n",
            " 33  Flight Impact         99465 non-null   object \n",
            " 34  Fatalities            565 non-null     float64\n",
            " 35  Injuries              229 non-null     float64\n",
            " 36  Aircraft Damage       174104 non-null  int64  \n",
            " 37  Radome Strike         174104 non-null  int64  \n",
            " 38  Radome Damage         174104 non-null  int64  \n",
            " 39  Windshield Strike     174104 non-null  int64  \n",
            " 40  Windshield Damage     174104 non-null  int64  \n",
            " 41  Nose Strike           174104 non-null  int64  \n",
            " 42  Nose Damage           174104 non-null  int64  \n",
            " 43  Engine1 Strike        174104 non-null  int64  \n",
            " 44  Engine1 Damage        174104 non-null  int64  \n",
            " 45  Engine2 Strike        174104 non-null  int64  \n",
            " 46  Engine2 Damage        174104 non-null  int64  \n",
            " 47  Engine3 Strike        174104 non-null  int64  \n",
            " 48  Engine3 Damage        174104 non-null  int64  \n",
            " 49  Engine4 Strike        174104 non-null  int64  \n",
            " 50  Engine4 Damage        174104 non-null  int64  \n",
            " 51  Engine Ingested       174104 non-null  int64  \n",
            " 52  Propeller Strike      174104 non-null  int64  \n",
            " 53  Propeller Damage      174104 non-null  int64  \n",
            " 54  Wing or Rotor Strike  174104 non-null  int64  \n",
            " 55  Wing or Rotor Damage  174104 non-null  int64  \n",
            " 56  Fuselage Strike       174104 non-null  int64  \n",
            " 57  Fuselage Damage       174104 non-null  int64  \n",
            " 58  Landing Gear Strike   174104 non-null  int64  \n",
            " 59  Landing Gear Damage   174104 non-null  int64  \n",
            " 60  Tail Strike           174104 non-null  int64  \n",
            " 61  Tail Damage           174104 non-null  int64  \n",
            " 62  Lights Strike         174104 non-null  int64  \n",
            " 63  Lights Damage         174104 non-null  int64  \n",
            " 64  Other Strike          174104 non-null  int64  \n",
            " 65  Other Damage          174104 non-null  int64  \n",
            "dtypes: float64(10), int64(34), object(22)\n",
            "memory usage: 87.7+ MB\n",
            "None\n"
          ]
        }
      ]
    },
    {
      "cell_type": "code",
      "source": [
        "print(df_cleaned.isnull().sum())"
      ],
      "metadata": {
        "execution": {
          "iopub.status.busy": "2024-09-19T19:41:31.325799Z",
          "iopub.execute_input": "2024-09-19T19:41:31.326873Z",
          "iopub.status.idle": "2024-09-19T19:41:31.684070Z",
          "shell.execute_reply.started": "2024-09-19T19:41:31.326823Z",
          "shell.execute_reply": "2024-09-19T19:41:31.682906Z"
        },
        "trusted": true,
        "colab": {
          "base_uri": "https://localhost:8080/"
        },
        "id": "hPH-fYHNDLYs",
        "outputId": "332fdb8d-0c1a-4b3f-e63f-abfba5c7ad45"
      },
      "execution_count": 10,
      "outputs": [
        {
          "output_type": "stream",
          "name": "stdout",
          "text": [
            "Record ID         0\n",
            "Incident Year     0\n",
            "Incident Month    0\n",
            "Incident Day      0\n",
            "Operator ID       0\n",
            "                 ..\n",
            "Tail Damage       0\n",
            "Lights Strike     0\n",
            "Lights Damage     0\n",
            "Other Strike      0\n",
            "Other Damage      0\n",
            "Length: 66, dtype: int64\n"
          ]
        }
      ]
    },
    {
      "cell_type": "markdown",
      "source": [
        "## Insights:\n",
        "\n",
        "Some columns, such as Aircraft Model, Engine Model, and Visibility, have missing or inconsistent data.\n",
        "Columns like Fatalities and Injuries are sparsely populated, indicating rare but significant events."
      ],
      "metadata": {
        "id": "XSyhgc99IB1q"
      }
    },
    {
      "cell_type": "markdown",
      "source": [
        "#Duplicates\n",
        "\n"
      ],
      "metadata": {
        "id": "7Uu5-IuaWxxj"
      }
    },
    {
      "cell_type": "code",
      "source": [
        "# Count the number of duplicate rows\n",
        "duplicate_count = df.duplicated().sum()\n",
        "print(f\"Number of duplicate rows: {duplicate_count}\")"
      ],
      "metadata": {
        "execution": {
          "iopub.status.busy": "2024-09-20T13:51:52.908038Z",
          "iopub.execute_input": "2024-09-20T13:51:52.908992Z",
          "iopub.status.idle": "2024-09-20T13:51:53.415313Z",
          "shell.execute_reply.started": "2024-09-20T13:51:52.908941Z",
          "shell.execute_reply": "2024-09-20T13:51:53.414129Z"
        },
        "trusted": true,
        "colab": {
          "base_uri": "https://localhost:8080/"
        },
        "id": "1qPnMf-ZDLYt",
        "outputId": "5b7c4b52-2d32-42c0-9d48-9e33b836fb4f"
      },
      "execution_count": 11,
      "outputs": [
        {
          "output_type": "stream",
          "name": "stdout",
          "text": [
            "Number of duplicate rows: 0\n"
          ]
        }
      ]
    },
    {
      "cell_type": "markdown",
      "source": [
        "## Insights:\n",
        "\n",
        "The dataset contains no duplicate rows, which suggests that each entry represents a unique wildlife strike incident.\n",
        "\n",
        "\n",
        "- **Data Integrity:**\n",
        "The absence of duplicates indicates the data collection process is robust, with no redundancy in recording incidents. This ensures that analyses based on this data will not be biased by overrepresentation of certain events.\n",
        "\n",
        "- **Coverage:**\n",
        "Each record being unique implies the dataset might comprehensively capture distinct incidents, providing a reliable foundation for exploring patterns and trends."
      ],
      "metadata": {
        "id": "swatH52JW5gW"
      }
    },
    {
      "cell_type": "markdown",
      "source": [
        "# <font color=black>5. Exploratory Data Analysis</font> <a>\n",
        "\n",
        "---"
      ],
      "metadata": {
        "id": "eEuG4wKUYHZK"
      }
    },
    {
      "cell_type": "markdown",
      "source": [
        "\n",
        "Exploratory Data Analysis (EDA) is a crucial step in any data science project, providing a foundation for understanding the dataset. It helps uncover patterns, identify anomalies, and test hypotheses.The primary objective of this EDA is to gain insights into the structure and characteristics of the data. This analysis will help identify potential issues or data quality problems that need to be addressed before moving on to the subsequent modeling phase."
      ],
      "metadata": {
        "id": "8Rao3U5JZLqx"
      }
    },
    {
      "cell_type": "markdown",
      "source": [
        "## 5.1. Incident Trends Over Time"
      ],
      "metadata": {
        "id": "TksILZjXaJR4"
      }
    },
    {
      "cell_type": "code",
      "source": [
        "# Count incidents by year\n",
        "yearly_trend = df_cleaned[\"Incident Year\"].value_counts().sort_index()\n",
        "\n",
        "# Plot the trend\n",
        "plt.figure(figsize=(10, 6))\n",
        "sns.barplot(x=yearly_trend.index, y=yearly_trend.values, palette=\"Blues\")\n",
        "plt.title(\"Number of Wildlife Strikes Per Year\")\n",
        "plt.xlabel(\"Year\")\n",
        "plt.ylabel(\"Number of Incidents\")\n",
        "plt.xticks(rotation=45)\n",
        "plt.show()"
      ],
      "metadata": {
        "colab": {
          "base_uri": "https://localhost:8080/",
          "height": 585
        },
        "id": "OH77-OrxZ9Uz",
        "outputId": "51d31304-e114-4d74-c61e-c61dd9c007df"
      },
      "execution_count": 12,
      "outputs": [
        {
          "output_type": "display_data",
          "data": {
            "text/plain": [
              "<Figure size 1000x600 with 1 Axes>"
            ],
            "image/png": "[encoded data removed]"
          },
          "metadata": {}
        }
      ]
    },
    {
      "cell_type": "markdown",
      "source": [
        "**Insights:**\n",
        "\n",
        "The graph shows how incidents vary by year and month with 2014 being highest."
      ],
      "metadata": {
        "id": "vNLxy6QJ6UeI"
      }
    },
    {
      "cell_type": "markdown",
      "source": [
        "## 5.2. Geographical Distribution"
      ],
      "metadata": {
        "id": "zKKYB32xz1yb"
      }
    },
    {
      "cell_type": "code",
      "source": [
        "# Count incidents by state\n",
        "state_trend = df_cleaned[\"State\"].value_counts().head(10)\n",
        "\n",
        "# Plot the trend\n",
        "plt.figure(figsize=(10, 6))\n",
        "sns.barplot(x=state_trend.values, y=state_trend.index, palette=\"Reds\")\n",
        "plt.title(\"Top 10 States with Most Wildlife Strikes\")\n",
        "plt.xlabel(\"Number of Incidents\")\n",
        "plt.ylabel(\"State\")\n",
        "plt.show()"
      ],
      "metadata": {
        "colab": {
          "base_uri": "https://localhost:8080/",
          "height": 564
        },
        "id": "wc0tQXhv1kBn",
        "outputId": "cdb4a16d-88ad-472a-c1f9-08a1d3fbef8f"
      },
      "execution_count": 14,
      "outputs": [
        {
          "output_type": "display_data",
          "data": {
            "text/plain": [
              "<Figure size 1000x600 with 1 Axes>"
            ],
            "image/png": "[encoded data removed]"
          },
          "metadata": {}
        }
      ]
    },
    {
      "cell_type": "markdown",
      "source": [
        "**Insights:**\n",
        "\n",
        "The bar chart helps identify airports or states with high incident frequencies.\n",
        "- Texas having the highest frequency of incidents"
      ],
      "metadata": {
        "id": "sruR2ZBR62Kz"
      }
    },
    {
      "cell_type": "markdown",
      "source": [
        "## 5.3. Species Involvement"
      ],
      "metadata": {
        "id": "w2T9AGIo5TuU"
      }
    },
    {
      "cell_type": "code",
      "source": [
        "species_count = df_cleaned[\"Species Name\"].value_counts().head(10)\n",
        "\n",
        "# Plot the species data\n",
        "plt.figure(figsize=(10, 6))\n",
        "sns.barplot(x=species_count.values, y=species_count.index, palette=\"Greens\")\n",
        "plt.title(\"Top 10 Species Involved in Wildlife Strikes\")\n",
        "plt.xlabel(\"Number of Incidents\")\n",
        "plt.ylabel(\"Species Name\")\n",
        "plt.show()"
      ],
      "metadata": {
        "colab": {
          "base_uri": "https://localhost:8080/",
          "height": 564
        },
        "id": "cMpf9ClD4tl1",
        "outputId": "a15c3fc6-e7e6-4867-dd06-638093a2fc42"
      },
      "execution_count": 15,
      "outputs": [
        {
          "output_type": "display_data",
          "data": {
            "text/plain": [
              "<Figure size 1000x600 with 1 Axes>"
            ],
            "image/png": "[encoded data removed]"
          },
          "metadata": {}
        }
      ]
    },
    {
      "cell_type": "markdown",
      "source": [
        "**Insights:**\n",
        "\n",
        "The bar chart helps determine which species are most commonly involved in strikes.\n",
        "- Uknown Medium bird strikes the most with uknown small bird coming at second."
      ],
      "metadata": {
        "id": "TxxsDHZg2FWk"
      }
    },
    {
      "cell_type": "markdown",
      "source": [
        "## 5.4. Damage Severity Analysis"
      ],
      "metadata": {
        "id": "g8Tn7bGh8C1R"
      }
    },
    {
      "cell_type": "code",
      "source": [
        "# Group by species and damage level, then sum and sort\n",
        "species_damage = df_cleaned.groupby([\"Species Name\", \"Aircraft Damage\"]).size().unstack(fill_value=0)\n",
        "top_species = species_damage.sum(axis=1).sort_values(ascending=False).head(10)  # Top 10 species\n",
        "\n",
        "# Filter data for top species\n",
        "filtered_damage = species_damage.loc[top_species.index]\n",
        "\n",
        "# Plot stacked bar chart\n",
        "filtered_damage.plot(kind=\"bar\", stacked=True, figsize=(12, 6), colormap=\"coolwarm\")\n",
        "plt.title(\"Damage Severity by Top 10 Species\")\n",
        "plt.xlabel(\"Species Name\")\n",
        "plt.ylabel(\"Number of Incidents\")\n",
        "plt.xticks(rotation=45, ha=\"right\")\n",
        "plt.legend(title=\"Damage Level\")\n",
        "plt.tight_layout()\n",
        "plt.show()\n",
        "\n"
      ],
      "metadata": {
        "colab": {
          "base_uri": "https://localhost:8080/",
          "height": 607
        },
        "id": "vzZA0BgO8Ow7",
        "outputId": "806d6d02-4892-4c04-a4c4-426758cdd882"
      },
      "execution_count": 18,
      "outputs": [
        {
          "output_type": "display_data",
          "data": {
            "text/plain": [
              "<Figure size 1200x600 with 1 Axes>"
            ],
            "image/png": "[encoded data removed]"
          },
          "metadata": {}
        }
      ]
    },
    {
      "cell_type": "markdown",
      "source": [
        "**Insight:**\n",
        "\n",
        "Focused on top Species instead of displaying all species, limited the chart to the top 10 species based on the number of incidents. This reduced clutter and highlighted key contributors.\n",
        "\n",
        "**a) High Number of Incidents with Unknown Bird Types:**\n",
        "\n",
        "Unknown Medium Bird and Small Medium Bird account for a disproportionately large number of incidents.\n",
        "\n",
        "This could indicate:\n",
        "Difficulty in identifying species during incidents.\n",
        "A need for better tracking, reporting, or classification of bird types during strike investigations.\n",
        "\n",
        "**b) Medium Birds Are More Damaging:**\n",
        "\n",
        "- Medium birds cause a higher number of level 1 (serious) damage incidents (~4,000). This makes sense because medium-sized birds likely have more mass, which can cause significant damage to aircraft.\n",
        "\n",
        "These species may need more targeted mitigation efforts, such as habitat management around airports.\n",
        "\n",
        "**c) Small Birds Are Less Damaging:**\n",
        "\n",
        "- Despite their high frequency (~1,000 incidents with level 1 damage), small birds generally cause less severe damage. This aligns with their smaller mass and lower impact force.\n",
        "\n",
        "However, the high volume of incidents still poses a cumulative risk to operational safety.\n",
        "\n",
        "**d) The Last Five Species (Low Damage):**\n",
        "\n",
        "- The last five species, with ~5,000 incidents and zero level 1 damage, represent birds that are either:\n",
        "\n",
        "- Too small to cause significant structural damage.\n",
        "\n",
        "- Flying patterns that are less likely to interfere critically with aircraft operations.\n",
        "\n",
        "These species might be less of a priority for mitigation compared to medium and small-medium bird types."
      ],
      "metadata": {
        "id": "c7-E2QEB9t8h"
      }
    },
    {
      "cell_type": "markdown",
      "source": [
        "# <font color=black> 6. Model training</font> <a class=\"anchor\" id=\"chapter7\"></a>"
      ],
      "metadata": {
        "id": "YSYEZ3eGF4jT"
      }
    },
    {
      "cell_type": "markdown",
      "source": [
        "## 6.1. Preprocessing:\n",
        "\n",
        "The preprocessing phase is crucial to prepare the data for modeling."
      ],
      "metadata": {
        "id": "XY5BC9LmGrRk"
      }
    },
    {
      "cell_type": "markdown",
      "source": [
        "6.1.1. Handle Missing Values:\n",
        "\n",
        "This ensures no gaps hinder the models, because our data is clean we will check for missing values first."
      ],
      "metadata": {
        "id": "gF62GP5BHLVJ"
      }
    },
    {
      "cell_type": "code",
      "source": [
        "# Check missing values\n",
        "missing_summary = df_cleaned.isnull().sum()\n",
        "print(missing_summary)"
      ],
      "metadata": {
        "colab": {
          "base_uri": "https://localhost:8080/"
        },
        "id": "uHPpLM1mIYVh",
        "outputId": "95865063-83ea-4031-859c-e4502209da1a"
      },
      "execution_count": 20,
      "outputs": [
        {
          "output_type": "stream",
          "name": "stdout",
          "text": [
            "Record ID         0\n",
            "Incident Year     0\n",
            "Incident Month    0\n",
            "Incident Day      0\n",
            "Operator ID       0\n",
            "                 ..\n",
            "Tail Damage       0\n",
            "Lights Strike     0\n",
            "Lights Damage     0\n",
            "Other Strike      0\n",
            "Other Damage      0\n",
            "Length: 66, dtype: int64\n"
          ]
        }
      ]
    },
    {
      "cell_type": "markdown",
      "source": [
        "There are no missing values."
      ],
      "metadata": {
        "id": "1p9-Gug6I6Er"
      }
    },
    {
      "cell_type": "markdown",
      "source": [
        "6.1.2. Scale Numerical Features:\n",
        "\n",
        "The objective is to normalize or standardize numerical values to improve model performance."
      ],
      "metadata": {
        "id": "arRXPMhKJD1N"
      }
    },
    {
      "cell_type": "code",
      "source": [
        "# Exclude irrelevant numerical columns\n",
        "numerical_cols = [col for col in numerical_cols if col not in ['Record ID']]\n",
        "print(\"Filtered Numerical Columns:\", numerical_cols)"
      ],
      "metadata": {
        "colab": {
          "base_uri": "https://localhost:8080/"
        },
        "id": "lindZRkULn_Z",
        "outputId": "81b7450b-9908-40fd-ef44-ee6638c18fc0"
      },
      "execution_count": 26,
      "outputs": [
        {
          "output_type": "stream",
          "name": "stdout",
          "text": [
            "Filtered Numerical Columns: ['Incident Year', 'Incident Month', 'Incident Day', 'Aircraft Mass', 'Engine Make', 'Engines', 'Engine2 Position', 'Engine4 Position', 'Height', 'Speed', 'Distance', 'Fatalities', 'Injuries', 'Aircraft Damage', 'Radome Strike', 'Radome Damage', 'Windshield Strike', 'Windshield Damage', 'Nose Strike', 'Nose Damage', 'Engine1 Strike', 'Engine1 Damage', 'Engine2 Strike', 'Engine2 Damage', 'Engine3 Strike', 'Engine3 Damage', 'Engine4 Strike', 'Engine4 Damage', 'Engine Ingested', 'Propeller Strike', 'Propeller Damage', 'Wing or Rotor Strike', 'Wing or Rotor Damage', 'Fuselage Strike', 'Fuselage Damage', 'Landing Gear Strike', 'Landing Gear Damage', 'Tail Strike', 'Tail Damage', 'Lights Strike', 'Lights Damage', 'Other Strike', 'Other Damage']\n"
          ]
        }
      ]
    },
    {
      "cell_type": "code",
      "source": [
        "from sklearn.preprocessing import StandardScaler\n",
        "\n",
        "# Initialize scaler\n",
        "scaler = StandardScaler()\n",
        "\n",
        "# Apply scaling to numerical columns\n",
        "df_cleaned[numerical_cols] = scaler.fit_transform(df_cleaned[numerical_cols])"
      ],
      "metadata": {
        "id": "fSYECiruJZ-8"
      },
      "execution_count": 28,
      "outputs": []
    },
    {
      "cell_type": "markdown",
      "source": [
        "6.1.3. Handle Imbalanced Data:\n",
        "\n",
        "Here imbalances in the target variable are addressed."
      ],
      "metadata": {
        "id": "2aozj6GoMHN5"
      }
    },
    {
      "cell_type": "code",
      "source": [
        "# Define the target variable (replace 'Damage Level' with the actual column name)\n",
        "target_column = 'Record ID'\n",
        "X = df_cleaned.drop(columns=[target_column])  # Features\n",
        "y = df_cleaned[target_column]"
      ],
      "metadata": {
        "id": "rmLsIWUBMkTj"
      },
      "execution_count": 31,
      "outputs": []
    },
    {
      "cell_type": "code",
      "source": [
        "# Perform one-hot encoding for categorical features (if any)\n",
        "X = pd.get_dummies(X, drop_first=True)"
      ],
      "metadata": {
        "id": "OjG-Y8tHNt_7"
      },
      "execution_count": 32,
      "outputs": []
    },
    {
      "cell_type": "markdown",
      "source": [],
      "metadata": {
        "id": "mChUoblnNtZ3"
      }
    }
  ]
}